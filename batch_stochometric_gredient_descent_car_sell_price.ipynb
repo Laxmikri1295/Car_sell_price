{
 "cells": [
  {
   "cell_type": "code",
   "execution_count": 1,
   "id": "99bb3c42",
   "metadata": {},
   "outputs": [],
   "source": [
    "import tensorflow as tf\n",
    "from tensorflow import keras \n",
    "import numpy as np\n",
    "import pandas as pd"
   ]
  },
  {
   "cell_type": "code",
   "execution_count": 2,
   "id": "ea41678e",
   "metadata": {},
   "outputs": [],
   "source": [
    "pf = pd.read_csv(\"car_price.csv\")"
   ]
  },
  {
   "cell_type": "code",
   "execution_count": 3,
   "id": "040b29d9",
   "metadata": {},
   "outputs": [
    {
     "data": {
      "text/html": [
       "<div>\n",
       "<style scoped>\n",
       "    .dataframe tbody tr th:only-of-type {\n",
       "        vertical-align: middle;\n",
       "    }\n",
       "\n",
       "    .dataframe tbody tr th {\n",
       "        vertical-align: top;\n",
       "    }\n",
       "\n",
       "    .dataframe thead th {\n",
       "        text-align: right;\n",
       "    }\n",
       "</style>\n",
       "<table border=\"1\" class=\"dataframe\">\n",
       "  <thead>\n",
       "    <tr style=\"text-align: right;\">\n",
       "      <th></th>\n",
       "      <th>Mileage</th>\n",
       "      <th>Ages</th>\n",
       "      <th>SellPrice</th>\n",
       "    </tr>\n",
       "  </thead>\n",
       "  <tbody>\n",
       "    <tr>\n",
       "      <th>0</th>\n",
       "      <td>69000</td>\n",
       "      <td>6</td>\n",
       "      <td>18000</td>\n",
       "    </tr>\n",
       "    <tr>\n",
       "      <th>1</th>\n",
       "      <td>35000</td>\n",
       "      <td>3</td>\n",
       "      <td>33400</td>\n",
       "    </tr>\n",
       "    <tr>\n",
       "      <th>2</th>\n",
       "      <td>57000</td>\n",
       "      <td>5</td>\n",
       "      <td>26100</td>\n",
       "    </tr>\n",
       "    <tr>\n",
       "      <th>3</th>\n",
       "      <td>22500</td>\n",
       "      <td>2</td>\n",
       "      <td>40000</td>\n",
       "    </tr>\n",
       "    <tr>\n",
       "      <th>4</th>\n",
       "      <td>46000</td>\n",
       "      <td>4</td>\n",
       "      <td>31500</td>\n",
       "    </tr>\n",
       "    <tr>\n",
       "      <th>5</th>\n",
       "      <td>59000</td>\n",
       "      <td>5</td>\n",
       "      <td>26750</td>\n",
       "    </tr>\n",
       "    <tr>\n",
       "      <th>6</th>\n",
       "      <td>52000</td>\n",
       "      <td>5</td>\n",
       "      <td>32000</td>\n",
       "    </tr>\n",
       "    <tr>\n",
       "      <th>7</th>\n",
       "      <td>72000</td>\n",
       "      <td>6</td>\n",
       "      <td>19300</td>\n",
       "    </tr>\n",
       "    <tr>\n",
       "      <th>8</th>\n",
       "      <td>91000</td>\n",
       "      <td>8</td>\n",
       "      <td>12000</td>\n",
       "    </tr>\n",
       "    <tr>\n",
       "      <th>9</th>\n",
       "      <td>67000</td>\n",
       "      <td>6</td>\n",
       "      <td>22000</td>\n",
       "    </tr>\n",
       "  </tbody>\n",
       "</table>\n",
       "</div>"
      ],
      "text/plain": [
       "   Mileage  Ages  SellPrice\n",
       "0    69000     6      18000\n",
       "1    35000     3      33400\n",
       "2    57000     5      26100\n",
       "3    22500     2      40000\n",
       "4    46000     4      31500\n",
       "5    59000     5      26750\n",
       "6    52000     5      32000\n",
       "7    72000     6      19300\n",
       "8    91000     8      12000\n",
       "9    67000     6      22000"
      ]
     },
     "execution_count": 3,
     "metadata": {},
     "output_type": "execute_result"
    }
   ],
   "source": [
    "pf"
   ]
  },
  {
   "cell_type": "markdown",
   "id": "895f5b28",
   "metadata": {},
   "source": [
    "# scaling of data"
   ]
  },
  {
   "cell_type": "code",
   "execution_count": 4,
   "id": "9981fa52",
   "metadata": {},
   "outputs": [
    {
     "data": {
      "text/plain": [
       "array([[0.67883212, 0.66666667],\n",
       "       [0.18248175, 0.16666667],\n",
       "       [0.50364964, 0.5       ],\n",
       "       [0.        , 0.        ],\n",
       "       [0.34306569, 0.33333333],\n",
       "       [0.53284672, 0.5       ],\n",
       "       [0.43065693, 0.5       ],\n",
       "       [0.72262774, 0.66666667],\n",
       "       [1.        , 1.        ],\n",
       "       [0.64963504, 0.66666667]])"
      ]
     },
     "execution_count": 4,
     "metadata": {},
     "output_type": "execute_result"
    }
   ],
   "source": [
    "from sklearn import preprocessing\n",
    "sx = preprocessing.MinMaxScaler()\n",
    "sy = preprocessing.MinMaxScaler()\n",
    "\n",
    "scaled_x = sx.fit_transform(pf.drop('SellPrice', axis='columns'))\n",
    "scaled_x"
   ]
  },
  {
   "cell_type": "code",
   "execution_count": 5,
   "id": "802623ab",
   "metadata": {},
   "outputs": [
    {
     "data": {
      "text/plain": [
       "array([[0.21428571],\n",
       "       [0.76428571],\n",
       "       [0.50357143],\n",
       "       [1.        ],\n",
       "       [0.69642857],\n",
       "       [0.52678571],\n",
       "       [0.71428571],\n",
       "       [0.26071429],\n",
       "       [0.        ],\n",
       "       [0.35714286]])"
      ]
     },
     "execution_count": 5,
     "metadata": {},
     "output_type": "execute_result"
    }
   ],
   "source": [
    "scaled_y = sy.fit_transform(pf['SellPrice'].values.reshape(pf.shape[0],1))\n",
    "scaled_y"
   ]
  },
  {
   "cell_type": "code",
   "execution_count": 6,
   "id": "c86d1046",
   "metadata": {},
   "outputs": [
    {
     "data": {
      "text/plain": [
       "2"
      ]
     },
     "execution_count": 6,
     "metadata": {},
     "output_type": "execute_result"
    }
   ],
   "source": [
    "np.ones(shape = (2))\n",
    "scaled_x.shape[1]"
   ]
  },
  {
   "cell_type": "code",
   "execution_count": 7,
   "id": "4554d66f",
   "metadata": {},
   "outputs": [],
   "source": [
    "def batch_gradient_descent(x,y_true,epoch, learning_rate = 0.01):\n",
    "    number_of_features = x.shape[1]\n",
    "    w=np.ones(shape=(number_of_features))\n",
    "    bias=0\n",
    "    cost_list=[]\n",
    "    epoch_list=[]\n",
    "    total_samples=x.shape[0]\n",
    "    for i in range(epoch):\n",
    "        y_predicted = np.dot(w, scaled_x.T)+bias\n",
    "        w_upgrade = -(2/total_samples)*(x.T.dot(y_true-y_predicted))\n",
    "        b_grade = -(2/total_samples)*np.sum(y_true-y_predicted)\n",
    "        w=w-learning_rate*(w_upgrade)\n",
    "        bias=bias-learning_rate*(b_grade)\n",
    "        cost = np.mean(np.square(y_predicted-y_true))\n",
    "        if(i%10 == 0):\n",
    "            cost_list.append(cost)\n",
    "            epoch_list.append(i)\n",
    "    return w,bias, cost, cost_list,epoch_list       \n",
    "            "
   ]
  },
  {
   "cell_type": "code",
   "execution_count": 8,
   "id": "5aa34197",
   "metadata": {},
   "outputs": [
    {
     "data": {
      "text/plain": [
       "array([0.21428571, 0.76428571, 0.50357143, 1.        , 0.69642857,\n",
       "       0.52678571, 0.71428571, 0.26071429, 0.        , 0.35714286])"
      ]
     },
     "execution_count": 8,
     "metadata": {},
     "output_type": "execute_result"
    }
   ],
   "source": [
    "scaled_y.reshape(scaled_y.shape[0])"
   ]
  },
  {
   "cell_type": "code",
   "execution_count": 9,
   "id": "e1318d96",
   "metadata": {},
   "outputs": [],
   "source": [
    "w,bias,cost, cost_list,epoch_list = batch_gradient_descent(scaled_x , scaled_y.reshape(scaled_y.shape[0],),500) "
   ]
  },
  {
   "cell_type": "code",
   "execution_count": 10,
   "id": "ec40e282",
   "metadata": {},
   "outputs": [
    {
     "data": {
      "text/plain": [
       "array([-0.01874515,  0.00602309])"
      ]
     },
     "execution_count": 10,
     "metadata": {},
     "output_type": "execute_result"
    }
   ],
   "source": [
    "w"
   ]
  },
  {
   "cell_type": "code",
   "execution_count": 11,
   "id": "6ae3fa61",
   "metadata": {},
   "outputs": [
    {
     "data": {
      "text/plain": [
       "0.4579403186095841"
      ]
     },
     "execution_count": 11,
     "metadata": {},
     "output_type": "execute_result"
    }
   ],
   "source": [
    "bias"
   ]
  },
  {
   "cell_type": "code",
   "execution_count": 12,
   "id": "668ffd45",
   "metadata": {},
   "outputs": [
    {
     "data": {
      "text/plain": [
       "0.08250715794903138"
      ]
     },
     "execution_count": 12,
     "metadata": {},
     "output_type": "execute_result"
    }
   ],
   "source": [
    "cost"
   ]
  },
  {
   "cell_type": "code",
   "execution_count": 13,
   "id": "c5e58f22",
   "metadata": {},
   "outputs": [
    {
     "data": {
      "text/plain": [
       "[0.9199054394136089,\n",
       " 0.7065329517769096,\n",
       " 0.5852707076154784,\n",
       " 0.5132365461737681,\n",
       " 0.46763642092535473,\n",
       " 0.43634955172198914,\n",
       " 0.41292627293882606,\n",
       " 0.39393036107236246,\n",
       " 0.37752699197344974,\n",
       " 0.36273250541556784,\n",
       " 0.34901579040045777,\n",
       " 0.3360864880922664,\n",
       " 0.32378245196601896,\n",
       " 0.31200994403762705,\n",
       " 0.30071185033940806,\n",
       " 0.28985078349546345,\n",
       " 0.27940009523336273,\n",
       " 0.26933909182998256,\n",
       " 0.25965048293665083,\n",
       " 0.25031901734031287,\n",
       " 0.24133074966991147,\n",
       " 0.23267264263653362,\n",
       " 0.22433234784291928,\n",
       " 0.21629808175568715,\n",
       " 0.20855855251549943,\n",
       " 0.2011029140250873,\n",
       " 0.19392073478778557,\n",
       " 0.1870019748313036,\n",
       " 0.18033696716634742,\n",
       " 0.17391640188499152,\n",
       " 0.16773131188347848,\n",
       " 0.16177305966186067,\n",
       " 0.15603332490171326,\n",
       " 0.1505040926556231,\n",
       " 0.1451776420528264,\n",
       " 0.14004653546317833,\n",
       " 0.13510360808198313,\n",
       " 0.13034195790927197,\n",
       " 0.12575493610322952,\n",
       " 0.12133613769094691,\n",
       " 0.11707939262174953,\n",
       " 0.11297875714966006,\n",
       " 0.10902850553245953,\n",
       " 0.10522312203548838,\n",
       " 0.10155729322887797,\n",
       " 0.09802590056738189,\n",
       " 0.09462401324240335,\n",
       " 0.09134688129621693,\n",
       " 0.08818992898875629,\n",
       " 0.0851487484076998]"
      ]
     },
     "execution_count": 13,
     "metadata": {},
     "output_type": "execute_result"
    }
   ],
   "source": [
    "cost_list"
   ]
  },
  {
   "cell_type": "code",
   "execution_count": 14,
   "id": "de6d713a",
   "metadata": {
    "scrolled": true
   },
   "outputs": [
    {
     "data": {
      "text/plain": [
       "[<matplotlib.lines.Line2D at 0x2128f442df0>]"
      ]
     },
     "execution_count": 14,
     "metadata": {},
     "output_type": "execute_result"
    },
    {
     "data": {
      "image/png": "[encoded data removed]",
      "text/plain": [
       "<Figure size 432x288 with 1 Axes>"
      ]
     },
     "metadata": {
      "needs_background": "light"
     },
     "output_type": "display_data"
    }
   ],
   "source": [
    "import matplotlib.pyplot as plt\n",
    "%matplotlib inline\n",
    "plt.xlabel(\"epoch\")\n",
    "plt.ylabel(\"cost\")\n",
    "plt.plot(epoch_list,cost_list)"
   ]
  },
  {
   "cell_type": "code",
   "execution_count": 15,
   "id": "1648eb19",
   "metadata": {},
   "outputs": [],
   "source": [
    "def predict_price(mileage,age,w,b):\n",
    "    scaled_x = sx.transform([[mileage, age]])[0]\n",
    "    scaled_price = scaled_x[0]*w[0]+scaled_x[1]*w[1]+b\n",
    "    weight = sy.inverse_transform([[scaled_price]])[0][0]\n",
    "    return weight"
   ]
  },
  {
   "cell_type": "code",
   "execution_count": 16,
   "id": "ea17d80d",
   "metadata": {},
   "outputs": [
    {
     "data": {
      "text/plain": [
       "24754.658534178794"
      ]
     },
     "execution_count": 16,
     "metadata": {},
     "output_type": "execute_result"
    }
   ],
   "source": [
    "mileage = 35000\n",
    "age = 3\n",
    "predict_price(mileage,age,w,bias)"
   ]
  },
  {
   "cell_type": "code",
   "execution_count": 49,
   "id": "2fa14bf8",
   "metadata": {},
   "outputs": [],
   "source": [
    "import random\n",
    "def stochastic_descent(x,y_true,epoch,learning_rate=0.01):\n",
    "    number_of_features = x.shape[1]\n",
    "    w = np.ones(shape=(number_of_features))\n",
    "    bias = 0\n",
    "    total_sample  = x.shape[0]\n",
    "    cost_list=[]\n",
    "    cost=0\n",
    "    epoch_list =[]\n",
    "    for i in range(epoch):\n",
    "        random_index = random.randint(0,total_sample-1)\n",
    "        sample_x = x[random_index]\n",
    "        sample_y=y_true[random_index]\n",
    "        y_predicted = np.dot(w,sample_x.T)\n",
    "        w_grad = -(2/total_sample)*(sample_x.T.dot(sample_y-y_predicted))\n",
    "        bias_grad = -(2/total_sample)*(sample_y-y_predicted)\n",
    "        w = w-learning_rate*w_grad\n",
    "        \n",
    "        bias=bias-learning_rate*bias_grad\n",
    "        cost = np.mean(np.square(sample_y-y_predicted))\n",
    "        if(i%100==0):\n",
    "            cost_list.append(cost)\n",
    "            epoch_list.append(i)\n",
    "    return w , cost , bias, cost_list , epoch_list    \n",
    "    "
   ]
  },
  {
   "cell_type": "code",
   "execution_count": 51,
   "id": "7fcf607c",
   "metadata": {},
   "outputs": [],
   "source": [
    "w , cost,bias,cost_list, epoch_list = stochastic_descent( scaled_x, scaled_y.reshape(scaled_y.shape[0],) ,10000 )"
   ]
  },
  {
   "cell_type": "code",
   "execution_count": 52,
   "id": "9a8aa346",
   "metadata": {},
   "outputs": [
    {
     "data": {
      "text/plain": [
       "[<matplotlib.lines.Line2D at 0x2128fa81c10>]"
      ]
     },
     "execution_count": 52,
     "metadata": {},
     "output_type": "execute_result"
    },
    {
     "data": {
      "image/png": "[encoded data removed]",
      "text/plain": [
       "<Figure size 432x288 with 1 Axes>"
      ]
     },
     "metadata": {
      "needs_background": "light"
     },
     "output_type": "display_data"
    }
   ],
   "source": [
    "plt.xlabel(\"epoch\")\n",
    "plt.ylabel(\"cost\")\n",
    "plt.plot(epoch_list, cost_list)"
   ]
  },
  {
   "cell_type": "code",
   "execution_count": null,
   "id": "5425cb39",
   "metadata": {},
   "outputs": [],
   "source": []
  },
  {
   "cell_type": "code",
   "execution_count": null,
   "id": "abe820f2",
   "metadata": {},
   "outputs": [],
   "source": []
  },
  {
   "cell_type": "code",
   "execution_count": null,
   "id": "510845d6",
   "metadata": {},
   "outputs": [],
   "source": []
  },
  {
   "cell_type": "code",
   "execution_count": null,
   "id": "7630cd64",
   "metadata": {},
   "outputs": [],
   "source": []
  },
  {
   "cell_type": "code",
   "execution_count": null,
   "id": "f5940eb3",
   "metadata": {},
   "outputs": [],
   "source": []
  },
  {
   "cell_type": "code",
   "execution_count": null,
   "id": "0b051783",
   "metadata": {},
   "outputs": [],
   "source": []
  },
  {
   "cell_type": "code",
   "execution_count": null,
   "id": "39a1b04e",
   "metadata": {},
   "outputs": [],
   "source": []
  },
  {
   "cell_type": "code",
   "execution_count": null,
   "id": "a12379d1",
   "metadata": {},
   "outputs": [],
   "source": []
  }
 ],
 "metadata": {
  "kernelspec": {
   "display_name": "Python 3",
   "language": "python",
   "name": "python3"
  },
  "language_info": {
   "codemirror_mode": {
    "name": "ipython",
    "version": 3
   },
   "file_extension": ".py",
   "mimetype": "text/x-python",
   "name": "python",
   "nbconvert_exporter": "python",
   "pygments_lexer": "ipython3",
   "version": "3.8.8"
  }
 },
 "nbformat": 4,
 "nbformat_minor": 5
}
